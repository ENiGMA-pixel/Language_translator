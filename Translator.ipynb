{
 "cells": [
  {
   "cell_type": "code",
   "execution_count": 1,
   "id": "e7835ff3",
   "metadata": {
    "collapsed": true
   },
   "outputs": [
    {
     "name": "stdout",
     "output_type": "stream",
     "text": [
      "Collecting ibm_watson\n",
      "  Downloading ibm-watson-5.3.1.tar.gz (413 kB)\n",
      "  Installing build dependencies: started\n",
      "  Installing build dependencies: finished with status 'done'\n",
      "  Getting requirements to build wheel: started\n",
      "  Getting requirements to build wheel: finished with status 'done'\n",
      "    Preparing wheel metadata: started\n",
      "    Preparing wheel metadata: finished with status 'done'\n",
      "Requirement already satisfied: python-dateutil>=2.5.3 in e:\\anaconda\\lib\\site-packages (from ibm_watson) (2.8.2)\n",
      "Collecting websocket-client==1.1.0\n",
      "  Downloading websocket_client-1.1.0-py2.py3-none-any.whl (68 kB)\n",
      "Requirement already satisfied: requests<3.0,>=2.0 in e:\\anaconda\\lib\\site-packages (from ibm_watson) (2.26.0)\n",
      "Collecting ibm-cloud-sdk-core==3.*,>=3.3.6\n",
      "  Downloading ibm_cloud_sdk_core-3.15.0-py3-none-any.whl (83 kB)\n",
      "Requirement already satisfied: PyJWT<3.0.0,>=2.0.1 in e:\\anaconda\\lib\\site-packages (from ibm-cloud-sdk-core==3.*,>=3.3.6->ibm_watson) (2.1.0)\n",
      "Requirement already satisfied: urllib3<2.0.0,>=1.26.0 in e:\\anaconda\\lib\\site-packages (from ibm-cloud-sdk-core==3.*,>=3.3.6->ibm_watson) (1.26.7)\n",
      "Requirement already satisfied: six>=1.5 in e:\\anaconda\\lib\\site-packages (from python-dateutil>=2.5.3->ibm_watson) (1.16.0)\n",
      "Requirement already satisfied: idna<4,>=2.5 in e:\\anaconda\\lib\\site-packages (from requests<3.0,>=2.0->ibm_watson) (3.2)\n",
      "Requirement already satisfied: charset-normalizer~=2.0.0 in e:\\anaconda\\lib\\site-packages (from requests<3.0,>=2.0->ibm_watson) (2.0.4)\n",
      "Requirement already satisfied: certifi>=2017.4.17 in e:\\anaconda\\lib\\site-packages (from requests<3.0,>=2.0->ibm_watson) (2021.10.8)\n",
      "Building wheels for collected packages: ibm-watson\n",
      "  Building wheel for ibm-watson (PEP 517): started\n",
      "  Building wheel for ibm-watson (PEP 517): finished with status 'done'\n",
      "  Created wheel for ibm-watson: filename=ibm_watson-5.3.1-py3-none-any.whl size=409192 sha256=3d72778f1995c9f77e5f35e26247146b72e8f31dbe0a9e8e6ce1d0f2797b3107\n",
      "  Stored in directory: c:\\users\\ankit kumar\\appdata\\local\\pip\\cache\\wheels\\3d\\26\\bb\\2962387956504cac2f0016b86d4bcb0c350c7e8d3aad3c932a\n",
      "Successfully built ibm-watson\n",
      "Installing collected packages: websocket-client, ibm-cloud-sdk-core, ibm-watson\n",
      "Successfully installed ibm-cloud-sdk-core-3.15.0 ibm-watson-5.3.1 websocket-client-1.1.0\n"
     ]
    }
   ],
   "source": [
    "!pip install ibm_watson"
   ]
  },
  {
   "cell_type": "markdown",
   "id": "9645997b",
   "metadata": {},
   "source": [
    "# Authenticate"
   ]
  },
  {
   "cell_type": "code",
   "execution_count": 2,
   "id": "26b4a771",
   "metadata": {},
   "outputs": [],
   "source": [
    "api_key = \"Y2uA3SaSrYgpLXUgvipR3th1atuN1-D_V5Up_K8Sn0vH\"\n",
    "url = \"https://api.eu-gb.language-translator.watson.cloud.ibm.com/instances/9e5a94fb-5045-4096-aabe-842167a01c11\"\n"
   ]
  },
  {
   "cell_type": "code",
   "execution_count": 4,
   "id": "dcaeb4a1",
   "metadata": {},
   "outputs": [],
   "source": [
    "# importing deps\n",
    "from ibm_watson import LanguageTranslatorV3\n",
    "from ibm_cloud_sdk_core.authenticators import IAMAuthenticator"
   ]
  },
  {
   "cell_type": "code",
   "execution_count": 5,
   "id": "9be3ed37",
   "metadata": {},
   "outputs": [],
   "source": [
    "#setup services\n",
    "authenticator = IAMAuthenticator(api_key)\n",
    "lt = LanguageTranslatorV3(version = '2018-02-01' , authenticator = authenticator)\n",
    "lt.set_service_url(url)\n"
   ]
  },
  {
   "cell_type": "markdown",
   "id": "b42e945d",
   "metadata": {},
   "source": [
    "# Translate"
   ]
  },
  {
   "cell_type": "code",
   "execution_count": 13,
   "id": "4ae1d3cf",
   "metadata": {},
   "outputs": [],
   "source": [
    "translation = lt.translate(text = 'Hello' , model_id = 'en-ko').get_result()\n"
   ]
  },
  {
   "cell_type": "code",
   "execution_count": 19,
   "id": "09fda8ce",
   "metadata": {},
   "outputs": [
    {
     "data": {
      "text/plain": [
       "{'translations': [{'translation': '안녕하세요'}],\n",
       " 'word_count': 1,\n",
       " 'character_count': 5}"
      ]
     },
     "execution_count": 19,
     "metadata": {},
     "output_type": "execute_result"
    }
   ],
   "source": [
    "translation"
   ]
  },
  {
   "cell_type": "code",
   "execution_count": 25,
   "id": "d9c8e4ad",
   "metadata": {
    "scrolled": true
   },
   "outputs": [
    {
     "data": {
      "text/plain": [
       "'안녕하세요'"
      ]
     },
     "execution_count": 25,
     "metadata": {},
     "output_type": "execute_result"
    }
   ],
   "source": [
    "translation['translations'][0]['translation']"
   ]
  },
  {
   "cell_type": "markdown",
   "id": "48424b22",
   "metadata": {},
   "source": [
    "# Identify Language\n"
   ]
  },
  {
   "cell_type": "code",
   "execution_count": 30,
   "id": "60a3d0f4",
   "metadata": {},
   "outputs": [],
   "source": [
    "lang = lt.identify('hola').get_result()"
   ]
  },
  {
   "cell_type": "code",
   "execution_count": 31,
   "id": "e75cda60",
   "metadata": {},
   "outputs": [
    {
     "data": {
      "text/plain": [
       "{'languages': [{'language': 'es', 'confidence': 0.5324624795859498},\n",
       "  {'language': 'pt', 'confidence': 0.034577812540780455},\n",
       "  {'language': 'eu', 'confidence': 0.031589618310237336},\n",
       "  {'language': 'sk', 'confidence': 0.026483401344908716},\n",
       "  {'language': 'so', 'confidence': 0.020011184146307297},\n",
       "  {'language': 'fi', 'confidence': 0.018431121502528146},\n",
       "  {'language': 'sv', 'confidence': 0.017369666422792876},\n",
       "  {'language': 'eo', 'confidence': 0.016670194157051062},\n",
       "  {'language': 'en', 'confidence': 0.016348048927543244},\n",
       "  {'language': 'it', 'confidence': 0.016254331327578392},\n",
       "  {'language': 'nn', 'confidence': 0.013563122988501536},\n",
       "  {'language': 'nb', 'confidence': 0.012753408610568479},\n",
       "  {'language': 'ca', 'confidence': 0.012023316288595235},\n",
       "  {'language': 'ku', 'confidence': 0.011842340519763168},\n",
       "  {'language': 'hr', 'confidence': 0.0115520096744123},\n",
       "  {'language': 'cs', 'confidence': 0.011104775070273515},\n",
       "  {'language': 'hu', 'confidence': 0.01106225376783786},\n",
       "  {'language': 'tr', 'confidence': 0.010119610242928314},\n",
       "  {'language': 'tl', 'confidence': 0.009999816702439065},\n",
       "  {'language': 'ms', 'confidence': 0.00994907115393711},\n",
       "  {'language': 'sl', 'confidence': 0.00946643049419651},\n",
       "  {'language': 'vi', 'confidence': 0.00922082702330035},\n",
       "  {'language': 'cy', 'confidence': 0.008186086524313674},\n",
       "  {'language': 'mt', 'confidence': 0.007895285324770558},\n",
       "  {'language': 'et', 'confidence': 0.007881585325051491},\n",
       "  {'language': 'is', 'confidence': 0.0078037252083189},\n",
       "  {'language': 'da', 'confidence': 0.007694725159191036},\n",
       "  {'language': 'az', 'confidence': 0.00712148454343978},\n",
       "  {'language': 'pl', 'confidence': 0.006840982395871352},\n",
       "  {'language': 'nl', 'confidence': 0.0066793282273641405},\n",
       "  {'language': 'af', 'confidence': 0.00631001535744693},\n",
       "  {'language': 'zh', 'confidence': 0.006176697683645261},\n",
       "  {'language': 'lv', 'confidence': 0.005263180479680948},\n",
       "  {'language': 'ga', 'confidence': 0.005167372561860188},\n",
       "  {'language': 'zh-TW', 'confidence': 0.005162462914274902},\n",
       "  {'language': 'de', 'confidence': 0.0047898628859558146},\n",
       "  {'language': 'sq', 'confidence': 0.004526077431728748},\n",
       "  {'language': 'ro', 'confidence': 0.00406135152286224},\n",
       "  {'language': 'fr', 'confidence': 0.0039972223265157016},\n",
       "  {'language': 'ht', 'confidence': 0.001842050784322955},\n",
       "  {'language': 'lt', 'confidence': 0.0017013393386683827},\n",
       "  {'language': 'hi', 'confidence': 0.0013155633588766021},\n",
       "  {'language': 'ar', 'confidence': 0.0013023151551778335},\n",
       "  {'language': 'ja', 'confidence': 0.001282161864487792},\n",
       "  {'language': 'th', 'confidence': 0.0012399290832446385},\n",
       "  {'language': 'sr', 'confidence': 0.0012012815394353005},\n",
       "  {'language': 'ko', 'confidence': 0.0010879053784141344},\n",
       "  {'language': 'ur', 'confidence': 0.0010191876420070653},\n",
       "  {'language': 'my', 'confidence': 0.0009991691431244175},\n",
       "  {'language': 'ru', 'confidence': 0.000939009823772728},\n",
       "  {'language': 'mn', 'confidence': 0.000880470696648367},\n",
       "  {'language': 'el', 'confidence': 0.0008677085849166186},\n",
       "  {'language': 'bn', 'confidence': 0.0008264519428716859},\n",
       "  {'language': 'km', 'confidence': 0.0007950407025582075},\n",
       "  {'language': 'ka', 'confidence': 0.0007811797206281999},\n",
       "  {'language': 'lo', 'confidence': 0.0007275238588323172},\n",
       "  {'language': 'pa', 'confidence': 0.0007222636507706581},\n",
       "  {'language': 'bg', 'confidence': 0.0007149728197961605},\n",
       "  {'language': 'ta', 'confidence': 0.0007105830021019548},\n",
       "  {'language': 'mr', 'confidence': 0.0007042428005013402},\n",
       "  {'language': 'hy', 'confidence': 0.0006885108221409314},\n",
       "  {'language': 'ml', 'confidence': 0.0006799107495208979},\n",
       "  {'language': 'uk', 'confidence': 0.0006770201792323278},\n",
       "  {'language': 'te', 'confidence': 0.0006627720019628107},\n",
       "  {'language': 'kk', 'confidence': 0.0006621969142745562},\n",
       "  {'language': 'ps', 'confidence': 0.0006532593573106475},\n",
       "  {'language': 'be', 'confidence': 0.0006466401236596287},\n",
       "  {'language': 'fa', 'confidence': 0.0006409574630082682},\n",
       "  {'language': 'pa-PK', 'confidence': 0.0006346751065340173},\n",
       "  {'language': 'he', 'confidence': 0.0006325169607011905},\n",
       "  {'language': 'ne', 'confidence': 0.0006240611670920309},\n",
       "  {'language': 'ky', 'confidence': 0.0005705320076889038},\n",
       "  {'language': 'gu', 'confidence': 0.0005559644480104441},\n",
       "  {'language': 'cv', 'confidence': 0.0005466849362729206},\n",
       "  {'language': 'ba', 'confidence': 0.0005391829302430919},\n",
       "  {'language': 'si', 'confidence': 0.0005124772664670029}]}"
      ]
     },
     "execution_count": 31,
     "metadata": {},
     "output_type": "execute_result"
    }
   ],
   "source": [
    "lang"
   ]
  },
  {
   "cell_type": "code",
   "execution_count": null,
   "id": "7c566dfe",
   "metadata": {},
   "outputs": [],
   "source": []
  }
 ],
 "metadata": {
  "kernelspec": {
   "display_name": "Python 3 (ipykernel)",
   "language": "python",
   "name": "python3"
  },
  "language_info": {
   "codemirror_mode": {
    "name": "ipython",
    "version": 3
   },
   "file_extension": ".py",
   "mimetype": "text/x-python",
   "name": "python",
   "nbconvert_exporter": "python",
   "pygments_lexer": "ipython3",
   "version": "3.9.7"
  }
 },
 "nbformat": 4,
 "nbformat_minor": 5
}
